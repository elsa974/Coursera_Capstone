{
    "cells": [
        {
            "metadata": {
                "collapsed": true
            },
            "cell_type": "markdown",
            "source": "**Introduction**"
        },
        {
            "metadata": {},
            "cell_type": "markdown",
            "source": "The purpose of this study is to find the best locations for students in Vancouver to study outside of home or university. For that, we will focus our attention on cafes and parks and examine how they cluster together in order to select the best areas for studying.\nThe audience of this study are university students mainly but also anyone who is looking for quiet area of town, surrounded by cafes and parks to walk in."
        },
        {
            "metadata": {},
            "cell_type": "markdown",
            "source": "**Data**"
        },
        {
            "metadata": {},
            "cell_type": "markdown",
            "source": "For this study, the main data used will be the Foursquare location data, it will provide us with location data, Vancouver\u2019s neighbourhoods, local parks and cafes."
        },
        {
            "metadata": {},
            "cell_type": "markdown",
            "source": "**Methodology**"
        },
        {
            "metadata": {},
            "cell_type": "markdown",
            "source": "After downloading the required libraries, I will display a map of Vancouver where parks and cafes will be clustered together by neighbourhood. This will help students and professional finding nice area for studying or working.\nThe first step will be to define the coordinates of Vancouver to get the geographical location for the search query.\nThen I will get my Foursquare credentials in order to get the data from Foursquare. With that I can query data for both parks and cafes in Vancouver area.\nOnce I have this data, it is raw so I need first to transform it to a panda dataframe (using the Json normalize call) and then I can clean the data by getting rid of unnecessary information, renaming columns and getting rid of wrong categories.\nI do this both for the parks query and the cafes query.\nAfter that I can generate a map that will cluster together both of my new dataframes (parks and cafes). The map displays the clusters and now people can choose their best place to go study, work or just relax!"
        },
        {
            "metadata": {},
            "cell_type": "markdown",
            "source": "**Results**"
        },
        {
            "metadata": {},
            "cell_type": "markdown",
            "source": "Looking at the map, we can easily locate the downtown cafes close to parks that provides a nice and relaxing environment in this busy city!"
        },
        {
            "metadata": {},
            "cell_type": "markdown",
            "source": "**Discussion**"
        }
    ],
    "metadata": {
        "kernelspec": {
            "name": "python3",
            "display_name": "Python 3.7",
            "language": "python"
        },
        "language_info": {
            "name": "python",
            "version": "3.7.10",
            "mimetype": "text/x-python",
            "codemirror_mode": {
                "name": "ipython",
                "version": 3
            },
            "pygments_lexer": "ipython3",
            "nbconvert_exporter": "python",
            "file_extension": ".py"
        }
    },
    "nbformat": 4,
    "nbformat_minor": 1
}