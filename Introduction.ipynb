{
    "cells": [
        {
            "metadata": {
                "collapsed": true
            },
            "cell_type": "markdown",
            "source": "**Introduction - Real estate opportunities in Toronto**"
        },
        {
            "metadata": {},
            "cell_type": "markdown",
            "source": "The purpose of this study is to understand the housing current situation in Toronto. It is intended for real estate agents to better orientate their customers towards the perfect house for their needs. The analysis will be done in terms of neighbourhood, crime rate, proximity of amenities, etc. A model will be developed to suggest a house to a client based on the neighbourhood that will best suit them in terms of proximity of amenities they (school, parks, cafes, restaurants, etc.) but also in terms of housing prices.\nThe audience is real estate agents as this will be a very useful tool for them to help their client find the perfect home. This tool will help agents spending less time reconciliate their client\u2019s need as the model will do that for them.\n"
        },
        {
            "metadata": {},
            "cell_type": "code",
            "source": "",
            "execution_count": null,
            "outputs": []
        }
    ],
    "metadata": {
        "kernelspec": {
            "name": "python3",
            "display_name": "Python 3.7",
            "language": "python"
        },
        "language_info": {
            "name": "python",
            "version": "3.7.9",
            "mimetype": "text/x-python",
            "codemirror_mode": {
                "name": "ipython",
                "version": 3
            },
            "pygments_lexer": "ipython3",
            "nbconvert_exporter": "python",
            "file_extension": ".py"
        }
    },
    "nbformat": 4,
    "nbformat_minor": 1
}