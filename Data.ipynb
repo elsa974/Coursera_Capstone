{
    "cells": [
        {
            "metadata": {
                "collapsed": true
            },
            "cell_type": "markdown",
            "source": "**Data presentation**"
        },
        {
            "metadata": {},
            "cell_type": "markdown",
            "source": "For this study, the main data used will be the Foursquare location data, it will provide us with location data, Toronto\u2019s neighbourhood, local amenities such as restaurants, cafes, schools, etc.\nWe will also use the list of postal codes in Toronto from Wikipedia in order to create a map of amenities by neighbourhood.\nWe will finally use WOWA\u2019s data that gives us a housing market report by neighbourhood in Toronto.\n"
        },
        {
            "metadata": {},
            "cell_type": "code",
            "source": "",
            "execution_count": null,
            "outputs": []
        }
    ],
    "metadata": {
        "kernelspec": {
            "name": "python3",
            "display_name": "Python 3.7",
            "language": "python"
        },
        "language_info": {
            "name": "python",
            "version": "3.7.9",
            "mimetype": "text/x-python",
            "codemirror_mode": {
                "name": "ipython",
                "version": 3
            },
            "pygments_lexer": "ipython3",
            "nbconvert_exporter": "python",
            "file_extension": ".py"
        }
    },
    "nbformat": 4,
    "nbformat_minor": 1
}